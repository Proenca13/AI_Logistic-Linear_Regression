{
 "cells": [
  {
   "metadata": {
    "collapsed": true
   },
   "cell_type": "markdown",
   "source": "# Custom Regression Models: Implementation and Validation",
   "id": "a97b5367c8bfbaa3"
  },
  {
   "metadata": {},
   "cell_type": "markdown",
   "source": "## Imports",
   "id": "61fd7f2f359cca81"
  },
  {
   "metadata": {},
   "cell_type": "code",
   "outputs": [],
   "execution_count": null,
   "source": [
    "import linear_regression\n",
    "import logistic_regression"
   ],
   "id": "92005014494dc68a"
  },
  {
   "metadata": {},
   "cell_type": "markdown",
   "source": "## Linear Regression: Implementation Check & Evaluation",
   "id": "aceb1a13cd6d6db5"
  },
  {
   "metadata": {},
   "cell_type": "code",
   "outputs": [],
   "execution_count": null,
   "source": "",
   "id": "b44e52fb5429cd84"
  },
  {
   "metadata": {},
   "cell_type": "markdown",
   "source": "## Custom Linear Regression vs Scikit-Learn",
   "id": "be27101f431d20d0"
  },
  {
   "metadata": {},
   "cell_type": "code",
   "outputs": [],
   "execution_count": null,
   "source": "",
   "id": "db2fcf3b38448fc"
  },
  {
   "metadata": {},
   "cell_type": "markdown",
   "source": "",
   "id": "a83ffe15a47b237d"
  }
 ],
 "metadata": {
  "kernelspec": {
   "display_name": "Python 3",
   "language": "python",
   "name": "python3"
  },
  "language_info": {
   "codemirror_mode": {
    "name": "ipython",
    "version": 2
   },
   "file_extension": ".py",
   "mimetype": "text/x-python",
   "name": "python",
   "nbconvert_exporter": "python",
   "pygments_lexer": "ipython2",
   "version": "2.7.6"
  }
 },
 "nbformat": 4,
 "nbformat_minor": 5
}
